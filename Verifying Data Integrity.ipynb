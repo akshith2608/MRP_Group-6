{
 "cells": [
  {
   "cell_type": "code",
   "execution_count": 4,
   "metadata": {},
   "outputs": [],
   "source": [
    "import pandas as pd"
   ]
  },
  {
   "cell_type": "code",
   "execution_count": 1,
   "metadata": {},
   "outputs": [],
   "source": [
    "import pandas as pd\n",
    "\n",
    "# Load CSV files separately\n",
    "company_df = pd.read_csv('Company.csv')\n",
    "job_df = pd.read_csv('Job.csv')\n",
    "job_posting_df = pd.read_csv('JobPosting.csv')"
   ]
  },
  {
   "cell_type": "code",
   "execution_count": 2,
   "metadata": {},
   "outputs": [
    {
     "name": "stdout",
     "output_type": "stream",
     "text": [
      "Index(['companyId', 'companyName', 'companyUrl', 'location', 'sector'], dtype='object')\n",
      "Index(['Job id', 'companyId', 'title', 'description', 'contractType'], dtype='object')\n",
      "Index(['jobUrl', 'Job id', 'applyUrl', 'postedTime', 'applyType', 'viewsCount',\n",
      "       'applicationsCount'],\n",
      "      dtype='object')\n"
     ]
    }
   ],
   "source": [
    "print(company_df.columns)\n",
    "print(job_df.columns)\n",
    "print(job_posting_df.columns)"
   ]
  },
  {
   "cell_type": "code",
   "execution_count": 3,
   "metadata": {},
   "outputs": [
    {
     "name": "stdout",
     "output_type": "stream",
     "text": [
      "\n",
      "--- Foreign Key Integrity Checks ---\n",
      "✔ All companyId values in Job table reference existing Company entries.\n",
      "✔ All Job id values in JobPosting table reference existing Job entries.\n"
     ]
    }
   ],
   "source": [
    "# Convert numeric columns to appropriate data types\n",
    "job_posting_df['viewsCount'] = pd.to_numeric(job_posting_df['viewsCount'], errors='coerce')\n",
    "job_posting_df['applicationsCount'] = pd.to_numeric(job_posting_df['applicationsCount'], errors='coerce')\n",
    "\n",
    "# 1. Foreign Key Integrity Checks\n",
    "print(\"\\n--- Foreign Key Integrity Checks ---\")\n",
    "if job_df['companyId'].isin(company_df['companyId']).all():\n",
    "    print(\"✔ All companyId values in Job table reference existing Company entries.\")\n",
    "else:\n",
    "    print(\"❌ Some companyId values in Job table do not exist in Company table.\")\n",
    "\n",
    "if job_posting_df['Job id'].isin(job_df['Job id']).all():\n",
    "    print(\"✔ All Job id values in JobPosting table reference existing Job entries.\")\n",
    "else:\n",
    "    print(\"❌ Some Job id values in JobPosting table do not exist in Job table.\")"
   ]
  },
  {
   "cell_type": "code",
   "execution_count": 4,
   "metadata": {},
   "outputs": [
    {
     "name": "stdout",
     "output_type": "stream",
     "text": [
      "\n",
      "--- Uniqueness Checks ---\n",
      "✔ Company table has unique companyId values.\n",
      "✔ Job table has unique Job id values.\n",
      "✔ JobPosting table has unique jobUrl values.\n"
     ]
    }
   ],
   "source": [
    "# 2. Uniqueness Checks (Primary Keys)\n",
    "print(\"\\n--- Uniqueness Checks ---\")\n",
    "\n",
    "if company_df['companyId'].is_unique:\n",
    "    print(\"✔ Company table has unique companyId values.\")\n",
    "else:\n",
    "    print(\"❌ Duplicate companyId values found in Company table.\")\n",
    "\n",
    "if job_df['Job id'].is_unique:\n",
    "    print(\"✔ Job table has unique Job id values.\")\n",
    "else:\n",
    "    print(\"❌ Duplicate Job id values found in Job table.\")\n",
    "\n",
    "if job_posting_df['jobUrl'].is_unique:\n",
    "    print(\"✔ JobPosting table has unique jobUrl values.\")\n",
    "else:\n",
    "    print(\"❌ Duplicate jobUrl values found in JobPosting table.\")"
   ]
  },
  {
   "cell_type": "code",
   "execution_count": 5,
   "metadata": {},
   "outputs": [
    {
     "name": "stdout",
     "output_type": "stream",
     "text": [
      "\n",
      "--- Missing Primary Key Values Checks ---\n",
      "✔ No missing primary key values in Company table.\n",
      "✔ No missing primary key values in Job table.\n",
      "✔ No missing primary key values in JobPosting table.\n",
      "\n",
      "Data integrity checks completed.\n"
     ]
    }
   ],
   "source": [
    "# 3. Missing Primary Key Values Checks\n",
    "print(\"\\n--- Missing Primary Key Values Checks ---\")\n",
    "if company_df['companyId'].isnull().any():\n",
    "    print(\"❌ Missing primary key values detected in Company table.\")\n",
    "else:\n",
    "    print(\"✔ No missing primary key values in Company table.\")\n",
    "\n",
    "if job_df['Job id'].isnull().any():\n",
    "    print(\"❌ Missing primary key values detected in Job table.\")\n",
    "else:\n",
    "    print(\"✔ No missing primary key values in Job table.\")\n",
    "\n",
    "if job_posting_df['jobUrl'].isnull().any():\n",
    "    print(\"❌ Missing primary key values detected in JobPosting table.\")\n",
    "else:\n",
    "    print(\"✔ No missing primary key values in JobPosting table.\")\n",
    "\n",
    "print(\"\\nData integrity checks completed.\")"
   ]
  }
 ],
 "metadata": {
  "kernelspec": {
   "display_name": "Python 3",
   "language": "python",
   "name": "python3"
  },
  "language_info": {
   "codemirror_mode": {
    "name": "ipython",
    "version": 3
   },
   "file_extension": ".py",
   "mimetype": "text/x-python",
   "name": "python",
   "nbconvert_exporter": "python",
   "pygments_lexer": "ipython3",
   "version": "3.11.9"
  }
 },
 "nbformat": 4,
 "nbformat_minor": 2
}
